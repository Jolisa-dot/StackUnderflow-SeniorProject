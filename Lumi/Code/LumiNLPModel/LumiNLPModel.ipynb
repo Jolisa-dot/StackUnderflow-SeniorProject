{
  "nbformat": 4,
  "nbformat_minor": 0,
  "metadata": {
    "colab": {
      "provenance": []
    },
    "kernelspec": {
      "name": "python3",
      "display_name": "Python 3"
    },
    "language_info": {
      "name": "python"
    }
  },
  "cells": [
    {
      "cell_type": "code",
      "execution_count": 11,
      "metadata": {
        "id": "crus0aIHL3bQ"
      },
      "outputs": [],
      "source": [
        "from transformers import pipeline\n",
        "import logging"
      ]
    },
    {
      "cell_type": "code",
      "source": [
        "# Initialize logging\n",
        "logging.basicConfig(level=logging.INFO)\n",
        "logger = logging.getLogger(\"LumiSentimentModel\")"
      ],
      "metadata": {
        "id": "fF__35uKL6b7"
      },
      "execution_count": 12,
      "outputs": []
    },
    {
      "cell_type": "code",
      "source": [
        "# Load pre-trained pipelines\n",
        "logger.info(\"Loading sentiment and emotion analysis models...\")\n",
        "sentiment_pipeline = pipeline(\"sentiment-analysis\", model=\"distilbert/distilbert-base-uncased-finetuned-sst-2-english\")\n",
        "emotion_pipeline = pipeline(\"text-classification\", model=\"j-hartmann/emotion-english-distilroberta-base\", return_all_scores=True)"
      ],
      "metadata": {
        "colab": {
          "base_uri": "https://localhost:8080/"
        },
        "id": "27DvMW9qohXe",
        "outputId": "5e03d97c-18d7-4661-9eb2-e1cc163d3a55"
      },
      "execution_count": 13,
      "outputs": [
        {
          "output_type": "stream",
          "name": "stderr",
          "text": [
            "Device set to use cpu\n",
            "Device set to use cpu\n"
          ]
        }
      ]
    },
    {
      "cell_type": "code",
      "source": [
        "# Keywords and phrases indicating harmful intent\n",
        "HARMFUL_KEYWORDS = [\n",
        "    \"suicide\", \"kill myself\", \"want to die\", \"no reason to live\",\n",
        "    \"end it all\", \"can't go on\", \"worthless\", \"hopeless\",\n",
        "    \"disappear forever\", \"I hate myself\", \"self-harm\"\n",
        "]"
      ],
      "metadata": {
        "id": "IMmEH8rcL6e8"
      },
      "execution_count": 14,
      "outputs": []
    },
    {
      "cell_type": "code",
      "source": [
        "def analyze_entry(text):\n",
        "    \"\"\"Analyze sentiment and emotion.\"\"\"\n",
        "    sentiment = sentiment_pipeline(text)[0]\n",
        "    emotions = emotion_pipeline(text)[0]\n",
        "    emotion_sorted = sorted(emotions, key=lambda x: x['score'], reverse=True)\n",
        "\n",
        "    top_emotion = emotion_sorted[0]['label']\n",
        "    confidence = emotion_sorted[0]['score']\n",
        "\n",
        "    return {\n",
        "        \"sentiment\": sentiment['label'],\n",
        "        \"sentiment_score\": sentiment['score'],\n",
        "        \"top_emotion\": top_emotion,\n",
        "        \"emotion_confidence\": confidence,\n",
        "        \"emotions_full\": emotions\n",
        "    }"
      ],
      "metadata": {
        "id": "nHeWrZFZL6h8"
      },
      "execution_count": 15,
      "outputs": []
    },
    {
      "cell_type": "code",
      "source": [
        "def detect_harmful_language(text):\n",
        "    \"\"\"Detect harmful/self-harm language.\"\"\"\n",
        "    text_lower = text.lower()\n",
        "    for phrase in HARMFUL_KEYWORDS:\n",
        "        if phrase in text_lower:\n",
        "            return True\n",
        "    return False"
      ],
      "metadata": {
        "id": "Cyq1pQMPQhrj"
      },
      "execution_count": 16,
      "outputs": []
    },
    {
      "cell_type": "code",
      "source": [
        "def process_journal_entry(entry_text):\n",
        "    \"\"\"Process journal entry and analyze emotional state.\"\"\"\n",
        "    logger.info(\"Processing journal entry...\")\n",
        "    analysis = analyze_entry(entry_text)\n",
        "    is_harmful = detect_harmful_language(entry_text)\n",
        "\n",
        "    result = {\n",
        "        \"analysis\": analysis,\n",
        "        \"harmful_language_detected\": is_harmful\n",
        "    }\n",
        "\n",
        "    if is_harmful:\n",
        "        logger.warning(\"Harmful language detected! Emergency response may be needed.\")\n",
        "        # Here you'd trigger a real alert to your backend system or human reviewer.\n",
        "\n",
        "    return result"
      ],
      "metadata": {
        "id": "mcuOnvI7L6kt"
      },
      "execution_count": 17,
      "outputs": []
    },
    {
      "cell_type": "code",
      "source": [
        "# Example usage\n",
        "if __name__ == \"__main__\":\n",
        "    sample_journals = [\n",
        "        \"I had such an amazing day at the park today! I laughed so much and felt truly at peace.\",\n",
        "        \"Everyone got a promotion except me. I'm trying to be happy for them, but it's hard not to feel jealous.\",\n",
        "        \"I don’t even know what’s wrong with me. I just feel so empty lately.\",\n",
        "        \"Life is beautiful and I’m so grateful for my friends and family.\",\n",
        "        \"I can't do this anymore. It all feels like too much to handle.\",\n",
        "        \"My heart is pounding—I’m so excited for tomorrow’s presentation!\"\n",
        "    ]"
      ],
      "metadata": {
        "id": "oz0w0P1HL6ni"
      },
      "execution_count": 18,
      "outputs": []
    },
    {
      "cell_type": "code",
      "source": [
        "for entry in sample_journals:\n",
        "  print(f\"\\nJournal Entry: {entry}\")\n",
        "  output = process_journal_entry(entry)\n",
        "  print(\"Analysis Result:\", output)"
      ],
      "metadata": {
        "id": "YIWhTQXfL6qq",
        "colab": {
          "base_uri": "https://localhost:8080/"
        },
        "outputId": "a708f581-dcc1-4dfe-9608-36e31455d619"
      },
      "execution_count": 19,
      "outputs": [
        {
          "output_type": "stream",
          "name": "stdout",
          "text": [
            "\n",
            "Journal Entry: I had such an amazing day at the park today! I laughed so much and felt truly at peace.\n",
            "Analysis Result: {'analysis': {'sentiment': 'POSITIVE', 'sentiment_score': 0.9998513460159302, 'top_emotion': 'joy', 'emotion_confidence': 0.9861605167388916, 'emotions_full': [{'label': 'anger', 'score': 0.00095271848840639}, {'label': 'disgust', 'score': 0.0010707201436161995}, {'label': 'fear', 'score': 0.0002452797198202461}, {'label': 'joy', 'score': 0.9861605167388916}, {'label': 'neutral', 'score': 0.005490459036082029}, {'label': 'sadness', 'score': 0.0041456823237240314}, {'label': 'surprise', 'score': 0.001934508327394724}]}, 'harmful_language_detected': False}\n",
            "\n",
            "Journal Entry: Everyone got a promotion except me. I'm trying to be happy for them, but it's hard not to feel jealous.\n",
            "Analysis Result: {'analysis': {'sentiment': 'POSITIVE', 'sentiment_score': 0.9978803396224976, 'top_emotion': 'anger', 'emotion_confidence': 0.5457968711853027, 'emotions_full': [{'label': 'anger', 'score': 0.5457968711853027}, {'label': 'disgust', 'score': 0.040332552045583725}, {'label': 'fear', 'score': 0.0016965604154393077}, {'label': 'joy', 'score': 0.011660228483378887}, {'label': 'neutral', 'score': 0.07615911960601807}, {'label': 'sadness', 'score': 0.3019198477268219}, {'label': 'surprise', 'score': 0.022434718906879425}]}, 'harmful_language_detected': False}\n",
            "\n",
            "Journal Entry: I don’t even know what’s wrong with me. I just feel so empty lately.\n",
            "Analysis Result: {'analysis': {'sentiment': 'NEGATIVE', 'sentiment_score': 0.999649167060852, 'top_emotion': 'sadness', 'emotion_confidence': 0.9582493901252747, 'emotions_full': [{'label': 'anger', 'score': 0.0020346122328191996}, {'label': 'disgust', 'score': 0.011855712160468102}, {'label': 'fear', 'score': 0.0025477237068116665}, {'label': 'joy', 'score': 0.0012715745251625776}, {'label': 'neutral', 'score': 0.021359018981456757}, {'label': 'sadness', 'score': 0.9582493901252747}, {'label': 'surprise', 'score': 0.002681934740394354}]}, 'harmful_language_detected': False}\n",
            "\n",
            "Journal Entry: Life is beautiful and I’m so grateful for my friends and family.\n",
            "Analysis Result: {'analysis': {'sentiment': 'POSITIVE', 'sentiment_score': 0.9998873472213745, 'top_emotion': 'joy', 'emotion_confidence': 0.9697400331497192, 'emotions_full': [{'label': 'anger', 'score': 0.0012636802857741714}, {'label': 'disgust', 'score': 0.0006403693114407361}, {'label': 'fear', 'score': 0.0004038922779727727}, {'label': 'joy', 'score': 0.9697400331497192}, {'label': 'neutral', 'score': 0.008212994784116745}, {'label': 'sadness', 'score': 0.00822687428444624}, {'label': 'surprise', 'score': 0.01151220127940178}]}, 'harmful_language_detected': False}\n",
            "\n",
            "Journal Entry: I can't do this anymore. It all feels like too much to handle.\n",
            "Analysis Result: {'analysis': {'sentiment': 'NEGATIVE', 'sentiment_score': 0.9997311234474182, 'top_emotion': 'sadness', 'emotion_confidence': 0.8157808780670166, 'emotions_full': [{'label': 'anger', 'score': 0.024478882551193237}, {'label': 'disgust', 'score': 0.07739980518817902}, {'label': 'fear', 'score': 0.01773277297616005}, {'label': 'joy', 'score': 0.002957011805847287}, {'label': 'neutral', 'score': 0.05706463381648064}, {'label': 'sadness', 'score': 0.8157808780670166}, {'label': 'surprise', 'score': 0.004586076829582453}]}, 'harmful_language_detected': False}\n",
            "\n",
            "Journal Entry: My heart is pounding—I’m so excited for tomorrow’s presentation!\n",
            "Analysis Result: {'analysis': {'sentiment': 'POSITIVE', 'sentiment_score': 0.999729573726654, 'top_emotion': 'joy', 'emotion_confidence': 0.7527825236320496, 'emotions_full': [{'label': 'anger', 'score': 0.025685658678412437}, {'label': 'disgust', 'score': 0.0008919318206608295}, {'label': 'fear', 'score': 0.020086439326405525}, {'label': 'joy', 'score': 0.7527825236320496}, {'label': 'neutral', 'score': 0.013652817346155643}, {'label': 'sadness', 'score': 0.023366831243038177}, {'label': 'surprise', 'score': 0.16353370249271393}]}, 'harmful_language_detected': False}\n"
          ]
        }
      ]
    },
    {
      "cell_type": "code",
      "source": [
        "# Save sentiment model and emotion model\n",
        "sentiment_pipeline.model.save_pretrained(\"/content/sentiment_model\")\n",
        "sentiment_pipeline.tokenizer.save_pretrained(\"/content/sentiment_model\")\n",
        "\n",
        "emotion_pipeline.model.save_pretrained(\"/content/emotion_model\")\n",
        "emotion_pipeline.tokenizer.save_pretrained(\"/content/emotion_model\")\n"
      ],
      "metadata": {
        "colab": {
          "base_uri": "https://localhost:8080/"
        },
        "id": "gzBOfubow8QD",
        "outputId": "01143f20-479b-4b19-edca-8f78d1e6fdb4"
      },
      "execution_count": 21,
      "outputs": [
        {
          "output_type": "execute_result",
          "data": {
            "text/plain": [
              "('/content/emotion_model/tokenizer_config.json',\n",
              " '/content/emotion_model/special_tokens_map.json',\n",
              " '/content/emotion_model/vocab.json',\n",
              " '/content/emotion_model/merges.txt',\n",
              " '/content/emotion_model/added_tokens.json',\n",
              " '/content/emotion_model/tokenizer.json')"
            ]
          },
          "metadata": {},
          "execution_count": 21
        }
      ]
    }
  ]
}